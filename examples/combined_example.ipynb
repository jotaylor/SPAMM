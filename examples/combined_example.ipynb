{
 "cells": [
  {
   "cell_type": "code",
   "execution_count": 1,
   "id": "a7b1624b-4636-4036-b409-d5526ec051a4",
   "metadata": {},
   "outputs": [],
   "source": [
    "import numpy as np\n",
    "import matplotlib.pyplot as plt\n",
    "\n",
    "from utils.parse_pars import parse_pars\n",
    "from spamm.run_spamm import spamm\n",
    "import run_fe, run_nc, run_bc, run_hg, run_ne\n",
    "from utils.add_in_quadrature import add_in_quadrature\n",
    "from spamm.analysis import plot_best_models\n",
    "from spamm.Samples import Samples"
   ]
  },
  {
   "cell_type": "code",
   "execution_count": 2,
   "id": "658768f1-92e3-4d22-a9e3-76c5b32e8215",
   "metadata": {},
   "outputs": [],
   "source": [
    "# This should be a wllength range from 1000-10,000A, every 0.5A\n",
    "TEST_wl = parse_pars()[\"testing\"]\n",
    "\n",
    "# Create wllength array from min, max and step values\n",
    "wl = np.arange(TEST_wl[\"wl_min\"], TEST_wl[\"wl_max\"], TEST_wl[\"wl_step\"])\n",
    "\n",
    "# These values were picked by hand to provide the most realistic power law.\n",
    "NC_PARAMS = {\"wl\": wl,\n",
    "             \"slope1\": 2.3,\n",
    "             \"norm_PL\": 5e-15,\n",
    "             \"broken_pl\": False}\n",
    "\n",
    "# The normalizations are drawn from a gaussian sample with mu=9.06e-15,\n",
    "# sigma=3.08946e-15 (from 0->template max flux). fe_width is halfway \n",
    "# between range in parameters. wl is very close to template span (1075-7535)\n",
    "FE_PARAMS = {\"fe_norm_1\": 1.07988504e-14,\n",
    "             \"fe_norm_2\": 6.91877436e-15,\n",
    "             \"fe_norm_3\": 5e-15,# 8.68930476e-15, \n",
    "             \"fe_width\": 5450,\n",
    "             \"no_templates\": 3,\n",
    "             \"wl\": wl}\n",
    "\n",
    "# These values are just the midpoints of the parameter space in parameters.yaml\n",
    "BC_PARAMS = {\"bc_norm\": 3e-14,\n",
    "             \"bc_tauBE\": 1.,\n",
    "             \"bc_logNe\": 5.5,\n",
    "             \"bc_loffset\": 0.,\n",
    "             \"bc_lwidth\": 5050.,\n",
    "             \"bc_Te\": 50250.,\n",
    "             \"bc_lines\": 201.5,\n",
    "             \"wl\": wl}\n",
    "\n",
    "# These values are just the midpoints of the parameter space in parameters.yaml\n",
    "HG_PARAMS = {\"hg_norm_1\": 6e-15,\n",
    "             \"hg_stellar_disp\": 515,\n",
    "             \"no_templates\": 1,\n",
    "             \"wl\": wl}\n",
    "\n",
    "NEL_PARAMS = {\"width\": 10, \n",
    "              \"amp_1\": 5e-14, \n",
    "              \"center_1\": 4830,\n",
    "              \"amp_2\": 8e-14, \n",
    "              \"center_2\": 6800,\n",
    "              \"amp_3\": 15e-14, \n",
    "              \"center_3\": 3000,\n",
    "              \"wl\": wl}\n",
    "\n",
    "LINEOUT = \"#\"*75"
   ]
  },
  {
   "cell_type": "code",
   "execution_count": 3,
   "id": "21e56d17-e3e8-4f3b-a9fc-fe5fd079a30d",
   "metadata": {},
   "outputs": [],
   "source": [
    "def generate_data(components=None, comp_params=None):\n",
    "    \n",
    "    all_wls = []\n",
    "    all_fluxes = []\n",
    "    all_errs = []\n",
    "    comb_p = {}\n",
    "    comp_names = {}\n",
    "    \n",
    "    for component in components:\n",
    "        component = component.upper()\n",
    "        if component == \"PL\" or component == \"NC\":\n",
    "            comp_wl, comp_flux, comp_err, comp_p = run_nc.create_nc(comp_params[\"PL\"])\n",
    "            comp_names[\"PL\"] = True\n",
    "            \n",
    "        elif component == \"FE\":\n",
    "            comp_wl, comp_flux, comp_err, comp_p = run_fe.create_fe(comp_params[\"FE\"])\n",
    "            comp_names[\"FE\"] = True\n",
    "            \n",
    "        elif component == \"BC\" or component == \"BPC\":\n",
    "            comp_wl, comp_flux, comp_err, comp_p = run_bc.create_bc(comp_params[\"BC\"])\n",
    "            comp_names[\"BC\"] = True\n",
    "            comp_names[\"BpC\"] = True\n",
    "            \n",
    "        elif component == \"HG\" or component == \"HOST\":\n",
    "            comp_wl, comp_flux, comp_err, comp_p = run_hg.create_hg(comp_params[\"HOST\"])\n",
    "            comp_names[\"HOST\"] = True\n",
    "\n",
    "        elif component == \"NEL\":\n",
    "            comp_wl, comp_flux, comp_err, comp_p = run_ne.create_ne(comp_params[\"NEL\"])\n",
    "            comp_names[\"NEL\"] = True\n",
    "            \n",
    "        all_fluxes.append(comp_flux)\n",
    "        all_wls.append(comp_wl)\n",
    "        all_errs.append(comp_err)\n",
    "        comb_p = {**comb_p, **comp_p}\n",
    "\n",
    "    comb_wl = wl\n",
    "    comb_flux = np.sum(all_fluxes, axis=0)\n",
    "    comb_err = add_in_quadrature(all_errs)\n",
    "    \n",
    "    print(f\"{LINEOUT}\\nUsing components: {components}\")\n",
    "    \n",
    "    return comb_wl, comb_flux, comb_err, all_fluxes, comp_names"
   ]
  },
  {
   "cell_type": "code",
   "execution_count": 4,
   "id": "4bc2c002-04ef-45f1-a4eb-0ca84af15b6e",
   "metadata": {},
   "outputs": [
    {
     "name": "stdout",
     "output_type": "stream",
     "text": [
      "NC params: {'wl': array([1000. , 1000.5, 1001. , ..., 9998.5, 9999. , 9999.5]), 'slope1': 2.3, 'norm_PL': 5e-15, 'broken_pl': False}\n",
      "ne params: {'width': 10, 'amp_1': 5e-14, 'center_1': 4830, 'amp_2': 8e-14, 'center_2': 6800, 'amp_3': 1.5e-13, 'center_3': 3000, 'wl': array([1000. , 1000.5, 1001. , ..., 9998.5, 9999. , 9999.5])}\n",
      "BC params: {'bc_norm': 3e-14, 'bc_tauBE': 1.0, 'bc_logNe': 5.5, 'bc_loffset': 0.0, 'bc_lwidth': 5050.0, 'bc_Te': 50250.0, 'bc_lines': 201.5, 'wl': array([1000. , 1000.5, 1001. , ..., 9998.5, 9999. , 9999.5])}\n",
      "Fe params: {'fe_norm_1': 1.07988504e-14, 'fe_norm_2': 6.91877436e-15, 'fe_norm_3': 5e-15, 'fe_width': 5450, 'no_templates': 3, 'wl': array([1000. , 1000.5, 1001. , ..., 9998.5, 9999. , 9999.5])}\n",
      "HG params: {'hg_norm_1': 6e-15, 'hg_stellar_disp': 515, 'no_templates': 1, 'wl': array([1000. , 1000.5, 1001. , ..., 9998.5, 9999. , 9999.5])}\n",
      "comp_params: [6e-15, 515]\n"
     ]
    },
    {
     "ename": "IndexError",
     "evalue": "list index out of range",
     "output_type": "error",
     "traceback": [
      "\u001b[0;31m---------------------------------------------------------------------------\u001b[0m",
      "\u001b[0;31mIndexError\u001b[0m                                Traceback (most recent call last)",
      "Cell \u001b[0;32mIn[4], line 4\u001b[0m\n\u001b[1;32m      1\u001b[0m components\u001b[38;5;241m=\u001b[39m[\u001b[38;5;124m\"\u001b[39m\u001b[38;5;124mPL\u001b[39m\u001b[38;5;124m\"\u001b[39m, \u001b[38;5;124m\"\u001b[39m\u001b[38;5;124mNEL\u001b[39m\u001b[38;5;124m\"\u001b[39m, \u001b[38;5;124m\"\u001b[39m\u001b[38;5;124mBC\u001b[39m\u001b[38;5;124m\"\u001b[39m, \u001b[38;5;124m\"\u001b[39m\u001b[38;5;124mFE\u001b[39m\u001b[38;5;124m\"\u001b[39m, \u001b[38;5;124m\"\u001b[39m\u001b[38;5;124mHG\u001b[39m\u001b[38;5;124m\"\u001b[39m]\n\u001b[1;32m      2\u001b[0m comp_params\u001b[38;5;241m=\u001b[39m{\u001b[38;5;124m\"\u001b[39m\u001b[38;5;124mPL\u001b[39m\u001b[38;5;124m\"\u001b[39m: NC_PARAMS, \u001b[38;5;124m\"\u001b[39m\u001b[38;5;124mNEL\u001b[39m\u001b[38;5;124m\"\u001b[39m: NEL_PARAMS, \u001b[38;5;124m\"\u001b[39m\u001b[38;5;124mBC\u001b[39m\u001b[38;5;124m\"\u001b[39m: BC_PARAMS, \u001b[38;5;124m\"\u001b[39m\u001b[38;5;124mFE\u001b[39m\u001b[38;5;124m\"\u001b[39m: FE_PARAMS, \u001b[38;5;124m\"\u001b[39m\u001b[38;5;124mHOST\u001b[39m\u001b[38;5;124m\"\u001b[39m: HG_PARAMS}\n\u001b[0;32m----> 4\u001b[0m wl, flux, flux_err, all_fluxes, comp_names \u001b[38;5;241m=\u001b[39m \u001b[43mgenerate_data\u001b[49m\u001b[43m(\u001b[49m\u001b[43mcomponents\u001b[49m\u001b[38;5;241;43m=\u001b[39;49m\u001b[43mcomponents\u001b[49m\u001b[43m,\u001b[49m\u001b[43m \u001b[49m\u001b[43mcomp_params\u001b[49m\u001b[38;5;241;43m=\u001b[39;49m\u001b[43mcomp_params\u001b[49m\u001b[43m)\u001b[49m\n\u001b[1;32m      6\u001b[0m fig \u001b[38;5;241m=\u001b[39m plt\u001b[38;5;241m.\u001b[39mfigure(figsize\u001b[38;5;241m=\u001b[39m(\u001b[38;5;241m20\u001b[39m,\u001b[38;5;241m5\u001b[39m))\n\u001b[1;32m      7\u001b[0m plt\u001b[38;5;241m.\u001b[39mplot(wl, flux)\n",
      "Cell \u001b[0;32mIn[3], line 25\u001b[0m, in \u001b[0;36mgenerate_data\u001b[0;34m(components, comp_params)\u001b[0m\n\u001b[1;32m     22\u001b[0m     comp_names[\u001b[38;5;124m\"\u001b[39m\u001b[38;5;124mBpC\u001b[39m\u001b[38;5;124m\"\u001b[39m] \u001b[38;5;241m=\u001b[39m \u001b[38;5;28;01mTrue\u001b[39;00m\n\u001b[1;32m     24\u001b[0m \u001b[38;5;28;01melif\u001b[39;00m component \u001b[38;5;241m==\u001b[39m \u001b[38;5;124m\"\u001b[39m\u001b[38;5;124mHG\u001b[39m\u001b[38;5;124m\"\u001b[39m \u001b[38;5;129;01mor\u001b[39;00m component \u001b[38;5;241m==\u001b[39m \u001b[38;5;124m\"\u001b[39m\u001b[38;5;124mHOST\u001b[39m\u001b[38;5;124m\"\u001b[39m:\n\u001b[0;32m---> 25\u001b[0m     comp_wl, comp_flux, comp_err, comp_p \u001b[38;5;241m=\u001b[39m \u001b[43mrun_hg\u001b[49m\u001b[38;5;241;43m.\u001b[39;49m\u001b[43mcreate_hg\u001b[49m\u001b[43m(\u001b[49m\u001b[43mcomp_params\u001b[49m\u001b[43m[\u001b[49m\u001b[38;5;124;43m\"\u001b[39;49m\u001b[38;5;124;43mHOST\u001b[39;49m\u001b[38;5;124;43m\"\u001b[39;49m\u001b[43m]\u001b[49m\u001b[43m)\u001b[49m\n\u001b[1;32m     26\u001b[0m     comp_names[\u001b[38;5;124m\"\u001b[39m\u001b[38;5;124mHOST\u001b[39m\u001b[38;5;124m\"\u001b[39m] \u001b[38;5;241m=\u001b[39m \u001b[38;5;28;01mTrue\u001b[39;00m\n\u001b[1;32m     28\u001b[0m \u001b[38;5;28;01melif\u001b[39;00m component \u001b[38;5;241m==\u001b[39m \u001b[38;5;124m\"\u001b[39m\u001b[38;5;124mNEL\u001b[39m\u001b[38;5;124m\"\u001b[39m:\n",
      "File \u001b[0;32m~/Library/CloudStorage/Dropbox/Universitet/SPAMM/examples/run_hg.py:102\u001b[0m, in \u001b[0;36mcreate_hg\u001b[0;34m(hg_params)\u001b[0m\n\u001b[1;32m    100\u001b[0m     comp_params \u001b[38;5;241m=\u001b[39m [hg_params[\u001b[38;5;124mf\u001b[39m\u001b[38;5;124m\"\u001b[39m\u001b[38;5;124mhg_norm_\u001b[39m\u001b[38;5;132;01m{\u001b[39;00mx\u001b[38;5;132;01m}\u001b[39;00m\u001b[38;5;124m\"\u001b[39m] \u001b[38;5;28;01mfor\u001b[39;00m x \u001b[38;5;129;01min\u001b[39;00m \u001b[38;5;28mrange\u001b[39m(\u001b[38;5;241m1\u001b[39m, hg_params[\u001b[38;5;124m\"\u001b[39m\u001b[38;5;124mno_templates\u001b[39m\u001b[38;5;124m\"\u001b[39m]\u001b[38;5;241m+\u001b[39m\u001b[38;5;241m1\u001b[39m)] \u001b[38;5;241m+\u001b[39m [hg_params[\u001b[38;5;124m\"\u001b[39m\u001b[38;5;124mhg_stellar_disp\u001b[39m\u001b[38;5;124m\"\u001b[39m]]\n\u001b[1;32m    101\u001b[0m     \u001b[38;5;28mprint\u001b[39m(\u001b[38;5;124m\"\u001b[39m\u001b[38;5;124mcomp_params:\u001b[39m\u001b[38;5;124m\"\u001b[39m, comp_params)\n\u001b[0;32m--> 102\u001b[0m     hg_flux \u001b[38;5;241m=\u001b[39m \u001b[43mHostGalaxyComponent\u001b[49m\u001b[38;5;241;43m.\u001b[39;49m\u001b[43mflux\u001b[49m\u001b[43m(\u001b[49m\u001b[43mhg\u001b[49m\u001b[43m,\u001b[49m\u001b[43m \u001b[49m\u001b[43mspectrum\u001b[49m\u001b[43m,\u001b[49m\u001b[43m \u001b[49m\u001b[43mcomp_params\u001b[49m\u001b[43m)\u001b[49m\n\u001b[1;32m    103\u001b[0m     hg_err \u001b[38;5;241m=\u001b[39m hg_flux \u001b[38;5;241m*\u001b[39m \u001b[38;5;241m0.05\u001b[39m\n\u001b[1;32m    105\u001b[0m \u001b[38;5;66;03m#    pl.errorbar(hg_params[\"wl\"], hg_flux, hg_err)\u001b[39;00m\n\u001b[1;32m    106\u001b[0m \u001b[38;5;66;03m#    pl.savefig(\"hg_data.png\")\u001b[39;00m\n",
      "File \u001b[0;32m/opt/homebrew/Caskroom/miniforge/base/envs/spamm/lib/python3.11/site-packages/spamm/components/HostGalaxyComponent.py:285\u001b[0m, in \u001b[0;36mHostGalaxyComponent.flux\u001b[0;34m(self, spectrum, parameters)\u001b[0m\n\u001b[1;32m    279\u001b[0m         log_norm_wl \u001b[38;5;241m=\u001b[39m np\u001b[38;5;241m.\u001b[39mlog(norm_wl)\n\u001b[1;32m    280\u001b[0m \u001b[38;5;66;03m# TODO, check on handling of dispersions\u001b[39;00m\n\u001b[1;32m    281\u001b[0m \n\u001b[1;32m    282\u001b[0m         \u001b[38;5;66;03m# print(\"parameters:\",  parameters)\u001b[39;00m\n\u001b[1;32m    283\u001b[0m         \u001b[38;5;66;03m# print(len(parameters), len(parameters))\u001b[39;00m\n\u001b[1;32m    284\u001b[0m         \u001b[38;5;66;03m# print(\"self.parameter_index('hg_stellar_disp')\", self.parameter_index('hg_stellar_disp'))\u001b[39;00m\n\u001b[0;32m--> 285\u001b[0m         stellar_disp \u001b[38;5;241m=\u001b[39m \u001b[43mparameters\u001b[49m\u001b[43m[\u001b[49m\u001b[38;5;28;43mself\u001b[39;49m\u001b[38;5;241;43m.\u001b[39;49m\u001b[43mparameter_index\u001b[49m\u001b[43m(\u001b[49m\u001b[38;5;124;43m\"\u001b[39;49m\u001b[38;5;124;43mhg_stellar_disp\u001b[39;49m\u001b[38;5;124;43m\"\u001b[39;49m\u001b[43m)\u001b[49m\u001b[43m]\u001b[49m\n\u001b[1;32m    286\u001b[0m         \u001b[38;5;28mself\u001b[39m\u001b[38;5;241m.\u001b[39mflux_arrays \u001b[38;5;241m=\u001b[39m np\u001b[38;5;241m.\u001b[39mzeros(\u001b[38;5;28mlen\u001b[39m(spectrum\u001b[38;5;241m.\u001b[39mspectral_axis))\n\u001b[1;32m    289\u001b[0m         \u001b[38;5;28;01mfor\u001b[39;00m i \u001b[38;5;129;01min\u001b[39;00m \u001b[38;5;28mrange\u001b[39m(\u001b[38;5;28mlen\u001b[39m(\u001b[38;5;28mself\u001b[39m\u001b[38;5;241m.\u001b[39mhost_gal)):\n",
      "\u001b[0;31mIndexError\u001b[0m: list index out of range"
     ]
    }
   ],
   "source": [
    "components=[\"PL\", \"NEL\", \"BC\", \"FE\"]\n",
    "comp_params={\"PL\": NC_PARAMS, \"NEL\": NEL_PARAMS, \"BC\": BC_PARAMS, \"FE\": FE_PARAMS, \"HOST\": HG_PARAMS}\n",
    "\n",
    "wl, flux, flux_err, all_fluxes, comp_names = generate_data(components=components, comp_params=comp_params)\n",
    "\n",
    "fig = plt.figure(figsize=(20,5))\n",
    "plt.plot(wl, flux)\n",
    "plt.title(f\"Fake data spectrum\")\n",
    "plt.xlabel(\"wllength (Å)\")\n",
    "plt.ylabel(\"Flux\")"
   ]
  },
  {
   "cell_type": "code",
   "execution_count": null,
   "id": "37eb6f57-8446-402f-8bc4-dfda4d574dab",
   "metadata": {},
   "outputs": [],
   "source": [
    "spamm(comp_names, (wl, flux, flux_err), comp_params=comp_params,\n",
    "      n_walkers=32, n_iterations=1000, parallel=True,\n",
    "      outdir=\"combined_example\", picklefile=\"combined\")"
   ]
  }
 ],
 "metadata": {
  "kernelspec": {
   "display_name": "Python 3 (ipykernel)",
   "language": "python",
   "name": "python3"
  },
  "language_info": {
   "codemirror_mode": {
    "name": "ipython",
    "version": 3
   },
   "file_extension": ".py",
   "mimetype": "text/x-python",
   "name": "python",
   "nbconvert_exporter": "python",
   "pygments_lexer": "ipython3",
   "version": "3.11.6"
  }
 },
 "nbformat": 4,
 "nbformat_minor": 5
}
