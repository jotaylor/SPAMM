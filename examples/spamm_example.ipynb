{
 "cells": [
  {
   "cell_type": "markdown",
   "metadata": {},
   "source": [
    "# How to run SPAMM"
   ]
  },
  {
   "cell_type": "markdown",
   "metadata": {},
   "source": [
    "The only required inputs to run `SPAMM` are:\n",
    "1. A source AGN spectrum\n",
    "2. A list of which components to fit\n",
    "\n",
    "However, there are numerous optional input arguments available. Since there are dozens of optional parameters, they have been separated out into a configuration file, `parameters.yaml`. An example default file is provided in `spamm/utils/parameters.yaml`. Users will want to modify this file or create their own with the same format. Any parameters file can be specified at runtime- if one is not found, the default will be used."
   ]
  },
  {
   "cell_type": "markdown",
   "metadata": {},
   "source": [
    "## Getting Started"
   ]
  },
  {
   "cell_type": "markdown",
   "metadata": {},
   "source": [
    "`SPAMM` can accept the required input spectrum in three different forms: \n",
    "1. `spamm.Spectrum` instance\n",
    "2. `specutils.Spectrum1D` instance\n",
    "3. tuple containing the wavelength and flux and optionally, the error on the flux\n",
    "\n",
    "All three methods will be shown below.\n",
    "\n",
    "The list of acceptable components to fit are listed below (they are case insensitive):\n",
    "- `PL` (Nuclear Continuum)\n",
    "- `FE` (Iron Forect)\n",
    "- `HOST` (Host Galaxy)\n",
    "- `BC` (Balmer Continuum)\n",
    "- `BPC` (Balmer Pseudo Continuum)\n",
    "- `CALZETTI_EXT` (Calzetti extinction curves)\n",
    "- `SMC_EXT` (Small Magellanic Cloud extinction curves)\n",
    "- `LMC_EXT` (Large Magellanic Cloud extinction curves)\n",
    "- `MW_EXT` (Milky Way extinction curves)\n",
    "- `AGN_EXT` (AGN extinction curves)\n",
    "\n",
    "For all of our examples, we'll just use the Nuclear Continuum/Power Law component so that computation time is fast."
   ]
  },
  {
   "cell_type": "markdown",
   "metadata": {},
   "source": [
    "### From a `spamm.Spectrum` instance"
   ]
  },
  {
   "cell_type": "code",
   "execution_count": 1,
   "metadata": {},
   "outputs": [],
   "source": [
    "import matplotlib\n",
    "#%matplotlib inline\n",
    "from matplotlib import pyplot as plt\n",
    "import numpy as np\n",
    "import astropy.units as u\n",
    "from astropy.modeling.powerlaws import PowerLaw1D\n",
    "\n",
    "from spamm.run_spamm import spamm\n",
    "from spamm.Spectrum import Spectrum"
   ]
  },
  {
   "cell_type": "code",
   "execution_count": 2,
   "metadata": {},
   "outputs": [],
   "source": [
    "# Define the unit-less wavelength and flux\n",
    "wavelength = np.arange(1000, 2000)\n",
    "\n",
    "# Just generate a simple sample power law for a spectrum\n",
    "pl = PowerLaw1D(amplitude=1.5e-17, x_0=1500, alpha=2.0)\n",
    "flux = pl(wavelength)\n",
    "\n",
    "# Make the error 5% of the flux array \n",
    "flux_error = flux * 0.05\n",
    "\n",
    "# If no wavelength and flux units are provided upon instantiation, \n",
    "# they will be retrieved from the parameters.yaml file.\n",
    "inspectrum = Spectrum(spectral_axis=wavelength, flux=flux, flux_error=flux_error,\n",
    "                      spectral_axis_unit=u.AA, flux_unit=u.Unit('erg cm-2 s-1 AA-1'))"
   ]
  },
  {
   "cell_type": "code",
   "execution_count": 3,
   "metadata": {},
   "outputs": [
    {
     "data": {
      "text/plain": [
       "Text(0.5, 1.0, 'Test input spectrum')"
      ]
     },
     "execution_count": 3,
     "metadata": {},
     "output_type": "execute_result"
    },
    {
     "data": {
      "image/png": "[encoded data removed]",
      "text/plain": [
       "<Figure size 640x480 with 1 Axes>"
      ]
     },
     "metadata": {},
     "output_type": "display_data"
    }
   ],
   "source": [
    "plt.errorbar(wavelength, flux, flux_error)\n",
    "plt.xlabel(\"Wavelength\")\n",
    "plt.ylabel(\"Flux\")\n",
    "plt.title(\"Test input spectrum\")"
   ]
  },
  {
   "cell_type": "code",
   "execution_count": 4,
   "metadata": {},
   "outputs": [],
   "source": [
    "# Let's fit only the Nuclear Continuum component.\n",
    "#spamm_out = spamm(complist=[\"PL\"], inspectrum=inspectrum)"
   ]
  },
  {
   "cell_type": "markdown",
   "metadata": {},
   "source": [
    "### From a `specutils.Spectrum1D` instance\n",
    "The most important thing to note when starting from a `specutils.Spectrum1D` object is that `Spectrum1D` requires the wavelength and flux arrays to be `astropy.unit.Quantity` objects. While an input uncertainty is an optional parameter when instantiating `Spectrum1D`, it is required when instantiating a `spamm.Spectrum` object and therefore should be passed into `Spectrum1D` before using `spamm`. \n",
    "`Spectrum1D` requires the uncertainty to be an `astropy.nddata.NDUncertainty` object."
   ]
  },
  {
   "cell_type": "code",
   "execution_count": 5,
   "metadata": {},
   "outputs": [],
   "source": [
    "from specutils import Spectrum1D\n",
    "from astropy.nddata import StdDevUncertainty"
   ]
  },
  {
   "cell_type": "code",
   "execution_count": 6,
   "metadata": {},
   "outputs": [],
   "source": [
    "# specutils.Spectrum1D objects must be instantiated with units.\n",
    "wavelength_q = wavelength * u.AA\n",
    "flux_q = flux * u.Unit('erg cm-2 s-1 AA-1')\n",
    "flux_error_q = flux_q * 0.05\n",
    "# Explicit array and unit arguments are shown below to illustrate how they are passed in.\n",
    "uncertainty = StdDevUncertainty(flux_error_q.value, unit=flux_error_q.unit)"
   ]
  },
  {
   "cell_type": "code",
   "execution_count": 7,
   "metadata": {},
   "outputs": [],
   "source": [
    "inspectrum = Spectrum1D(spectral_axis=wavelength_q, flux=flux_q, uncertainty=uncertainty)\n",
    "#spamm_out = spamm(complist=[\"PL\"], inspectrum=inspectrum)"
   ]
  },
  {
   "cell_type": "markdown",
   "metadata": {},
   "source": [
    "### From a tuple"
   ]
  },
  {
   "cell_type": "code",
   "execution_count": 8,
   "metadata": {},
   "outputs": [],
   "source": [
    "# Create a tuple with the wavelength, flux, and flux error arrays. \n",
    "intup = (wavelength, flux, flux_error)"
   ]
  },
  {
   "cell_type": "code",
   "execution_count": 9,
   "metadata": {},
   "outputs": [],
   "source": [
    "# Note that when the input spectrum is defined as a tuple, \n",
    "# the wavelength and flux units will be retrieved from the parameters file.\n",
    "#spamm_out = spamm(complist=[\"PL\"], inspectrum=intup)"
   ]
  },
  {
   "cell_type": "markdown",
   "metadata": {},
   "source": [
    "### Specifying an input parameters file\n",
    "An input `parameters.yaml` can be specified on runtime using the `par_file` argument. If one is not specified, the default file will be used."
   ]
  },
  {
   "cell_type": "code",
   "execution_count": 10,
   "metadata": {},
   "outputs": [],
   "source": [
    "# Uncomment this if you want to try it.\n",
    "#spamm_out = spamm(complist=[\"PL\"], inspectrum=inspectrum, par_file=\"parameters.yaml\")"
   ]
  },
  {
   "cell_type": "markdown",
   "metadata": {},
   "source": [
    "### Specifying output file names and locations\n",
    "There are several output files (see below); it is possible to change their default names and locations. For the output pickle file:"
   ]
  },
  {
   "cell_type": "code",
   "execution_count": 11,
   "metadata": {},
   "outputs": [],
   "source": [
    "# You can choose to include the extension name or not, both options below are acceptable.\n",
    "#spamm_out = spamm(complist=[\"PL\"], inspectrum=inspectrum, picklefile=\"mypicklefile\")\n",
    "#spamm_out = spamm(complist=[\"PL\"], inspectrum=inspectrum, picklefile=\"mypicklefile.pickle.gz\")"
   ]
  },
  {
   "cell_type": "markdown",
   "metadata": {},
   "source": [
    "The output directory need not exist, it will be created if necessary. To change the directory where the pickle file and plots will be written:"
   ]
  },
  {
   "cell_type": "code",
   "execution_count": 12,
   "metadata": {},
   "outputs": [],
   "source": [
    "#spamm_out = spamm(complist=[\"PL\"], inspectrum=inspectrum, outdir=\"/path/to/my/output\",picklefile=\"mypicklefile\")"
   ]
  },
  {
   "cell_type": "markdown",
   "metadata": {},
   "source": [
    "### MCMC input arguments\n",
    "You can also specify the number of walkers and iterations for `emcee` ([documentation here](http://dfm.io/emcee/current/)). "
   ]
  },
  {
   "cell_type": "code",
   "execution_count": 13,
   "metadata": {},
   "outputs": [],
   "source": [
    "import os\n",
    "os.environ[\"OMP_NUM_THREADS\"] = \"1\""
   ]
  },
  {
   "cell_type": "code",
   "execution_count": 16,
   "metadata": {},
   "outputs": [
    {
     "name": "stderr",
     "output_type": "stream",
     "text": [
      "100%|████████████████████████████████████████| 2000/2000 [00:10<00:00, 191.50it/s]\n"
     ]
    },
    {
     "name": "stdout",
     "output_type": "stream",
     "text": [
      "Mean acceptance fraction: 0.704\n",
      "Saved pickle file /Users/oddam/Library/CloudStorage/Dropbox/Universitet/phd_project/SPAMM/examples/TEST/TEST.pickle.gz\n",
      "Plotting the sample projections.\n",
      "\tSaved TEST_triangle.png\n",
      "Plotting the MCMC chains.\n",
      "\tSaved TEST_chain.png\n",
      "Plotting the model posterior PDFs.\n",
      "\tSaved TEST_posterior.png\n",
      "Saved /Users/oddam/Library/CloudStorage/Dropbox/Universitet/phd_project/SPAMM/examples/TEST/TEST_posterior.pdf\n",
      "executed in 0:00:12.911750\n"
     ]
    },
    {
     "data": {
      "text/plain": [
       "<Figure size 640x480 with 0 Axes>"
      ]
     },
     "metadata": {},
     "output_type": "display_data"
    },
    {
     "data": {
      "text/plain": [
       "<Figure size 640x480 with 0 Axes>"
      ]
     },
     "metadata": {},
     "output_type": "display_data"
    }
   ],
   "source": [
    "spamm_out = spamm(complist=['PL'], inspectrum=inspectrum, n_walkers=30, n_iterations=2000,\n",
    "                  par_file=\"parameters.yaml\",\n",
    "                 outdir=\"/Users/oddam/Library/CloudStorage/Dropbox/Universitet/phd_project/SPAMM/examples/TEST\", picklefile=\"TEST\",\n",
    "                 comp_params={\"broken_pl\": False})\n",
    " #"
   ]
  },
  {
   "cell_type": "markdown",
   "metadata": {},
   "source": [
    "### Running from the command line\n",
    "`SPAMM` is designed to be run programatically. Sorry."
   ]
  },
  {
   "cell_type": "markdown",
   "metadata": {},
   "source": [
    "## Interpreting the results"
   ]
  },
  {
   "cell_type": "markdown",
   "metadata": {},
   "source": [
    "### Output files\n",
    "#### Pickle file\n",
    "For each successful `SPAMM` run, an output pickle file will be written. By default this filename will reflect the datetime at code finish with the following format:<br/>\n",
    "`model_YYYYMMDD_mmss.pickle.gz`<br/>\n",
    "e.g. `model_20191231_1059.pickle.gz`<br/>\n",
    "\n",
    "Pickle files are by default written to a directory with the same runtime string, e.g.:<br/>\n",
    "`20191231_1059/model_20191231_1059.pickle.gz`\n",
    "\n",
    "As mentioned above, though, both the output directory name and pickle filename can be specified at runtime. \n",
    "\n",
    "The pickle file contains all information regarding the results from `emcee`. To read this pickle file in, use the `Samples` class:"
   ]
  },
  {
   "cell_type": "code",
   "execution_count": null,
   "metadata": {},
   "outputs": [],
   "source": [
    "from spamm.Samples import Samples"
   ]
  },
  {
   "cell_type": "code",
   "execution_count": null,
   "metadata": {},
   "outputs": [],
   "source": [
    "S = Samples(\"20231113_2209/model_20231113_2209.pickle.gz\")\n",
    "\n",
    "# Some useful attributes of a Samples object\n",
    "print(\"The pickle file name is:\\n\\t{}\".format(S.pname))\n",
    "print(\"The component parameter names are:\\n\\t{}\".format(S.model_parameter_names))\n",
    "print(\"The max values on the PDF for these paramters are:\\n\\t{}\".format(S.maxs))"
   ]
  },
  {
   "cell_type": "code",
   "execution_count": null,
   "metadata": {},
   "outputs": [],
   "source": [
    "# You can also access the MCMC samples from emcee\n",
    "print(np.shape(S.samples))\n",
    "S.samples"
   ]
  },
  {
   "cell_type": "markdown",
   "metadata": {},
   "source": [
    "### Plots\n",
    "\n",
    "At the end of a successfull `SPAMM` run you will see where the output plots have been written. Let's inspect some of these plots.\n",
    "\n",
    "#### Triangle plot\n",
    "The triangle plot shows the projections of a set of samples in a multi-dimensional space. This is useful for visualizing the MCMC chain. "
   ]
  },
  {
   "cell_type": "code",
   "execution_count": null,
   "metadata": {},
   "outputs": [],
   "source": [
    "from spamm.analysis import corner, plot_chains, plot_posteriors_pdf\n",
    "from spamm.Samples import Samples\n",
    "\n",
    "S = Samples(\"20231113_2209/model_20231113_2209.pickle.gz\")"
   ]
  },
  {
   "cell_type": "code",
   "execution_count": null,
   "metadata": {},
   "outputs": [],
   "source": [
    "corner(S.samples, labels=S.model_parameter_names)"
   ]
  },
  {
   "cell_type": "markdown",
   "metadata": {},
   "source": [
    "#### Chain plot\n",
    "\n",
    "This shows the accepted value of each parameter as a function of chain iteration."
   ]
  },
  {
   "cell_type": "code",
   "execution_count": null,
   "metadata": {},
   "outputs": [],
   "source": [
    "plot_chains(S.samples, labels=S.model_parameter_names)"
   ]
  },
  {
   "cell_type": "markdown",
   "metadata": {},
   "source": [
    "#### Posterior plot\n",
    "\n",
    "Each page in this output `.pdf` file shows a histogram for each component parameter. Overplotted are lines signifying the mean, median, mode, and maximum of the distribution. The 1$\\sigma$ limits are also shown. "
   ]
  },
  {
   "cell_type": "code",
   "execution_count": null,
   "metadata": {},
   "outputs": [],
   "source": [
    "#plot_posteriors_pdf(S)"
   ]
  },
  {
   "cell_type": "code",
   "execution_count": null,
   "metadata": {},
   "outputs": [],
   "source": [
    "def power_law(x, norm_pl, slope):\n",
    "    return norm_pl*(x/1500)**(-slope)"
   ]
  },
  {
   "cell_type": "code",
   "execution_count": null,
   "metadata": {},
   "outputs": [],
   "source": [
    "mean_vals = np.mean(S.samples, axis=0)\n",
    "\n",
    "plt.plot(wavelength, flux, lw=4)\n",
    "plt.plot(wavelength, power_law(wavelength, mean_vals[0], mean_vals[1]))"
   ]
  },
  {
   "cell_type": "code",
   "execution_count": null,
   "metadata": {},
   "outputs": [],
   "source": [
    "# Define the unit-less wavelength and flux\n",
    "wavelength = np.arange(1000, 2000)\n",
    "\n",
    "# Use a more complicated spectrum this time\n",
    "pl = PowerLaw1D(amplitude=1.5e-17, x_0=1500, alpha=2.0)\n",
    "flux = pl(wavelength)\n",
    "\n",
    "# Make the error 5% of the flux array \n",
    "flux_error = flux * 0.05\n",
    "\n",
    "# If no wavelength and flux units are provided upon instantiation, \n",
    "# they will be retrieved from the parameters.yaml file.\n",
    "inspectrum = Spectrum(spectral_axis=wavelength, flux=flux, flux_error=flux_error,\n",
    "                      spectral_axis_unit=u.AA, flux_unit=u.Unit('erg cm-2 s-1 AA-1'))\n",
    "\n",
    "#spamm_out = spamm(complist=['PL'], inspectrum=inspectrum, n_walkers=30, n_iterations=500)"
   ]
  }
 ],
 "metadata": {
  "kernelspec": {
   "display_name": "Python 3 (ipykernel)",
   "language": "python",
   "name": "python3"
  },
  "language_info": {
   "codemirror_mode": {
    "name": "ipython",
    "version": 3
   },
   "file_extension": ".py",
   "mimetype": "text/x-python",
   "name": "python",
   "nbconvert_exporter": "python",
   "pygments_lexer": "ipython3",
   "version": "3.11.6"
  }
 },
 "nbformat": 4,
 "nbformat_minor": 4
}
