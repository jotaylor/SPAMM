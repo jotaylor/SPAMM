{
 "cells": [
  {
   "cell_type": "code",
   "execution_count": 7,
   "id": "ed14fff3-f2b7-4e3d-8460-a0d56137643d",
   "metadata": {},
   "outputs": [],
   "source": [
    "%config InlineBackend.figure_format = \"retina\"\n",
    "\n",
    "from matplotlib import rcParams\n",
    "\n",
    "rcParams[\"savefig.dpi\"] = 100\n",
    "rcParams[\"figure.dpi\"] = 100\n",
    "rcParams[\"font.size\"] = 16\n",
    "\n",
    "from matplotlib import pyplot as plt\n",
    "import numpy as np\n",
    "\n",
    "from spamm.run_spamm import spamm"
   ]
  },
  {
   "cell_type": "code",
   "execution_count": 8,
   "id": "02e684ad-1eb9-4df4-9883-e7fa3ecd58d7",
   "metadata": {},
   "outputs": [],
   "source": [
    "# Define the unit-less wavelength and flux\n",
    "wave = np.arange(1000, 2000)\n",
    "\n",
    "# Just generate a simple sample power law for a spectrum\n",
    "amp=5e-15\n",
    "x0=1500\n",
    "alpha=0.8\n",
    "\n",
    "def powerlaw(x, amp, x0, alpha):\n",
    "    return amp*(x/x0)**(-alpha)\n",
    "\n",
    "flux = powerlaw(x=wave, amp=amp, x0=x0, alpha=alpha)\n",
    "\n",
    "# Make the error 5% of the flux array \n",
    "flux_error = flux * 0.05"
   ]
  },
  {
   "cell_type": "code",
   "execution_count": 9,
   "id": "af7b04de-e5c2-4e1b-bbf8-42b933aba566",
   "metadata": {},
   "outputs": [
    {
     "name": "stdout",
     "output_type": "stream",
     "text": [
      "Adding wl to comp_params.\n",
      "\n",
      "Adding flux to comp_params.\n",
      "\n",
      "Adding err to comp_params.\n",
      "\n",
      "Adding components to comp_params.\n",
      "\n"
     ]
    },
    {
     "name": "stderr",
     "output_type": "stream",
     "text": [
      "100%|██████████████████████████████████████| 5000/5000 [00:27<00:00, 179.05it/s]\n"
     ]
    },
    {
     "name": "stdout",
     "output_type": "stream",
     "text": [
      "Mean acceptance fraction: 0.713\n",
      "Saved pickle file pl_test/powerlaw.pickle.gz\n",
      "Plotting the sample projections.\n",
      "\tSaved powerlaw_triangle.png\n",
      "Plotting the MCMC chains.\n",
      "\tSaved powerlaw_chain.png\n",
      "Plotting the model posterior PDFs.\n",
      "\tSaved powerlaw_posterior.png\n",
      "Saved pl_test/powerlaw_posterior.pdf\n",
      "executed in 0:00:29.186951\n"
     ]
    },
    {
     "data": {
      "text/plain": [
       "<Figure size 640x480 with 0 Axes>"
      ]
     },
     "metadata": {},
     "output_type": "display_data"
    },
    {
     "data": {
      "text/plain": [
       "<Figure size 640x480 with 0 Axes>"
      ]
     },
     "metadata": {},
     "output_type": "display_data"
    }
   ],
   "source": [
    "# Run spamm\n",
    "spamm_out = spamm(complist=['PL'], inspectrum=(wave, flux, flux_error), n_walkers=32, n_iterations=5000, par_file=\"parameters.yaml\",\n",
    "                 outdir=\"pl_test\", picklefile=\"powerlaw\")"
   ]
  },
  {
   "cell_type": "code",
   "execution_count": null,
   "id": "1f6a36de-56cb-4e0c-95c7-4cb5887eabce",
   "metadata": {},
   "outputs": [],
   "source": []
  }
 ],
 "metadata": {
  "kernelspec": {
   "display_name": "Python 3 (ipykernel)",
   "language": "python",
   "name": "python3"
  },
  "language_info": {
   "codemirror_mode": {
    "name": "ipython",
    "version": 3
   },
   "file_extension": ".py",
   "mimetype": "text/x-python",
   "name": "python",
   "nbconvert_exporter": "python",
   "pygments_lexer": "ipython3",
   "version": "3.11.6"
  }
 },
 "nbformat": 4,
 "nbformat_minor": 5
}
